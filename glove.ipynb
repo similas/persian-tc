{
 "cells": [
  {
   "cell_type": "code",
   "execution_count": 1,
   "metadata": {},
   "outputs": [],
   "source": [
    "import re\n",
    "import json\n",
    "import keras\n",
    "import string\n",
    "import gensim\n",
    "import numpy as np\n",
    "import pandas as pd\n",
    "import matplotlib.pyplot as plt\n",
    "from hazm import word_tokenize\n",
    "from keras.models import Model\n",
    "from keras.datasets import imdb\n",
    "from sklearn.utils import shuffle\n",
    "from gensim.models.word2vec import Word2Vec\n",
    "from keras.layers.embeddings import Embedding\n",
    "from keras.preprocessing.text import Tokenizer\n",
    "from sklearn.model_selection import train_test_split\n",
    "from keras.preprocessing.sequence import pad_sequences\n",
    "from sklearn.preprocessing import LabelBinarizer, StandardScaler\n",
    "from keras.layers import LSTM, Activation, Dropout, Dense, Input"
   ]
  },
  {
   "cell_type": "markdown",
   "metadata": {},
   "source": [
    "# Reading Json File"
   ]
  },
  {
   "cell_type": "code",
   "execution_count": 2,
   "metadata": {},
   "outputs": [],
   "source": [
    "# Opening JSON file\n",
    "with open('train_final', encoding='utf-8') as json_file:\n",
    "    df_data = []\n",
    "    df_labels = []\n",
    "    data = json.load(json_file)\n",
    "    for i in range(len(data)):\n",
    "        category_data = data[i]['input_list'][0]['post_list']\n",
    "        category_labels = [data[i]['category']] * len(category_data)\n",
    "        df_data += category_data\n",
    "        df_labels += category_labels\n",
    "\n",
    "    df = pd.DataFrame(\n",
    "    {'Sentence': df_data,\n",
    "     'Label': df_labels\n",
    "    })"
   ]
  },
  {
   "cell_type": "markdown",
   "metadata": {},
   "source": [
    "# Data Sample"
   ]
  },
  {
   "cell_type": "code",
   "execution_count": 3,
   "metadata": {},
   "outputs": [
    {
     "data": {
      "text/html": [
       "<div>\n",
       "<style scoped>\n",
       "    .dataframe tbody tr th:only-of-type {\n",
       "        vertical-align: middle;\n",
       "    }\n",
       "\n",
       "    .dataframe tbody tr th {\n",
       "        vertical-align: top;\n",
       "    }\n",
       "\n",
       "    .dataframe thead th {\n",
       "        text-align: right;\n",
       "    }\n",
       "</style>\n",
       "<table border=\"1\" class=\"dataframe\">\n",
       "  <thead>\n",
       "    <tr style=\"text-align: right;\">\n",
       "      <th></th>\n",
       "      <th>Sentence</th>\n",
       "      <th>Label</th>\n",
       "    </tr>\n",
       "  </thead>\n",
       "  <tbody>\n",
       "    <tr>\n",
       "      <th>0</th>\n",
       "      <td>@irancell از طریق گوشی4جی و با استفاده از بسته...</td>\n",
       "      <td>negative</td>\n",
       "    </tr>\n",
       "    <tr>\n",
       "      <th>1</th>\n",
       "      <td>یه منشی خانم با حقوق ملیونی نیازمندیم... متاهل...</td>\n",
       "      <td>neutral</td>\n",
       "    </tr>\n",
       "    <tr>\n",
       "      <th>2</th>\n",
       "      <td>۱۹ تیر ۲/۵ گیگ با ۵ گیگ شبانه زورکی دادین امرو...</td>\n",
       "      <td>negative</td>\n",
       "    </tr>\n",
       "    <tr>\n",
       "      <th>3</th>\n",
       "      <td>بهاره کیان افشار</td>\n",
       "      <td>neutral</td>\n",
       "    </tr>\n",
       "    <tr>\n",
       "      <th>4</th>\n",
       "      <td>حرومزاده</td>\n",
       "      <td>negative</td>\n",
       "    </tr>\n",
       "    <tr>\n",
       "      <th>...</th>\n",
       "      <td>...</td>\n",
       "      <td>...</td>\n",
       "    </tr>\n",
       "    <tr>\n",
       "      <th>9331</th>\n",
       "      <td>شمایید بزرگترین اپراتور دیتای ایران😐😂</td>\n",
       "      <td>negative</td>\n",
       "    </tr>\n",
       "    <tr>\n",
       "      <th>9332</th>\n",
       "      <td>سلام میگم یک گیگ 100تومان واقعیت داره</td>\n",
       "      <td>neutral</td>\n",
       "    </tr>\n",
       "    <tr>\n",
       "      <th>9333</th>\n",
       "      <td>@irancell سلام ایرانسل عزیز آیا طرح یک ساعت مک...</td>\n",
       "      <td>neutral</td>\n",
       "    </tr>\n",
       "    <tr>\n",
       "      <th>9334</th>\n",
       "      <td>ایرانسل ۱۴ گیگ اینترنت هدیه دیروز به من  دادی ...</td>\n",
       "      <td>negative</td>\n",
       "    </tr>\n",
       "    <tr>\n",
       "      <th>9335</th>\n",
       "      <td>سلام ببخشید من سیمکارتم دائمی هست بعد بدهی ام ...</td>\n",
       "      <td>negative</td>\n",
       "    </tr>\n",
       "  </tbody>\n",
       "</table>\n",
       "<p>9336 rows × 2 columns</p>\n",
       "</div>"
      ],
      "text/plain": [
       "                                               Sentence     Label\n",
       "0     @irancell از طریق گوشی4جی و با استفاده از بسته...  negative\n",
       "1     یه منشی خانم با حقوق ملیونی نیازمندیم... متاهل...   neutral\n",
       "2     ۱۹ تیر ۲/۵ گیگ با ۵ گیگ شبانه زورکی دادین امرو...  negative\n",
       "3                                      بهاره کیان افشار   neutral\n",
       "4                                              حرومزاده  negative\n",
       "...                                                 ...       ...\n",
       "9331              شمایید بزرگترین اپراتور دیتای ایران😐😂  negative\n",
       "9332              سلام میگم یک گیگ 100تومان واقعیت داره   neutral\n",
       "9333  @irancell سلام ایرانسل عزیز آیا طرح یک ساعت مک...   neutral\n",
       "9334  ایرانسل ۱۴ گیگ اینترنت هدیه دیروز به من  دادی ...  negative\n",
       "9335  سلام ببخشید من سیمکارتم دائمی هست بعد بدهی ام ...  negative\n",
       "\n",
       "[9336 rows x 2 columns]"
      ]
     },
     "execution_count": 3,
     "metadata": {},
     "output_type": "execute_result"
    }
   ],
   "source": [
    "df = df.sample(frac=1).reset_index(drop=True)\n",
    "df"
   ]
  },
  {
   "cell_type": "markdown",
   "metadata": {},
   "source": [
    "# Removing Mentions"
   ]
  },
  {
   "cell_type": "code",
   "execution_count": 4,
   "metadata": {},
   "outputs": [
    {
     "data": {
      "text/html": [
       "<div>\n",
       "<style scoped>\n",
       "    .dataframe tbody tr th:only-of-type {\n",
       "        vertical-align: middle;\n",
       "    }\n",
       "\n",
       "    .dataframe tbody tr th {\n",
       "        vertical-align: top;\n",
       "    }\n",
       "\n",
       "    .dataframe thead th {\n",
       "        text-align: right;\n",
       "    }\n",
       "</style>\n",
       "<table border=\"1\" class=\"dataframe\">\n",
       "  <thead>\n",
       "    <tr style=\"text-align: right;\">\n",
       "      <th></th>\n",
       "      <th>Sentence</th>\n",
       "      <th>Label</th>\n",
       "    </tr>\n",
       "  </thead>\n",
       "  <tbody>\n",
       "    <tr>\n",
       "      <th>0</th>\n",
       "      <td>از طریق گوشی4جی و با استفاده از بسته های نامح...</td>\n",
       "      <td>negative</td>\n",
       "    </tr>\n",
       "    <tr>\n",
       "      <th>1</th>\n",
       "      <td>یه منشی خانم با حقوق ملیونی نیازمندیم... متاهل...</td>\n",
       "      <td>neutral</td>\n",
       "    </tr>\n",
       "    <tr>\n",
       "      <th>2</th>\n",
       "      <td>۱۹ تیر ۲/۵ گیگ با ۵ گیگ شبانه زورکی دادین امرو...</td>\n",
       "      <td>negative</td>\n",
       "    </tr>\n",
       "    <tr>\n",
       "      <th>3</th>\n",
       "      <td>بهاره کیان افشار</td>\n",
       "      <td>neutral</td>\n",
       "    </tr>\n",
       "    <tr>\n",
       "      <th>4</th>\n",
       "      <td>حرومزاده</td>\n",
       "      <td>negative</td>\n",
       "    </tr>\n",
       "    <tr>\n",
       "      <th>...</th>\n",
       "      <td>...</td>\n",
       "      <td>...</td>\n",
       "    </tr>\n",
       "    <tr>\n",
       "      <th>9331</th>\n",
       "      <td>شمایید بزرگترین اپراتور دیتای ایران😐😂</td>\n",
       "      <td>negative</td>\n",
       "    </tr>\n",
       "    <tr>\n",
       "      <th>9332</th>\n",
       "      <td>سلام میگم یک گیگ 100تومان واقعیت داره</td>\n",
       "      <td>neutral</td>\n",
       "    </tr>\n",
       "    <tr>\n",
       "      <th>9333</th>\n",
       "      <td>سلام ایرانسل عزیز آیا طرح یک ساعت مکالمه رایگ...</td>\n",
       "      <td>neutral</td>\n",
       "    </tr>\n",
       "    <tr>\n",
       "      <th>9334</th>\n",
       "      <td>ایرانسل ۱۴ گیگ اینترنت هدیه دیروز به من  دادی ...</td>\n",
       "      <td>negative</td>\n",
       "    </tr>\n",
       "    <tr>\n",
       "      <th>9335</th>\n",
       "      <td>سلام ببخشید من سیمکارتم دائمی هست بعد بدهی ام ...</td>\n",
       "      <td>negative</td>\n",
       "    </tr>\n",
       "  </tbody>\n",
       "</table>\n",
       "<p>9336 rows × 2 columns</p>\n",
       "</div>"
      ],
      "text/plain": [
       "                                               Sentence     Label\n",
       "0      از طریق گوشی4جی و با استفاده از بسته های نامح...  negative\n",
       "1     یه منشی خانم با حقوق ملیونی نیازمندیم... متاهل...   neutral\n",
       "2     ۱۹ تیر ۲/۵ گیگ با ۵ گیگ شبانه زورکی دادین امرو...  negative\n",
       "3                                      بهاره کیان افشار   neutral\n",
       "4                                              حرومزاده  negative\n",
       "...                                                 ...       ...\n",
       "9331              شمایید بزرگترین اپراتور دیتای ایران😐😂  negative\n",
       "9332              سلام میگم یک گیگ 100تومان واقعیت داره   neutral\n",
       "9333   سلام ایرانسل عزیز آیا طرح یک ساعت مکالمه رایگ...   neutral\n",
       "9334  ایرانسل ۱۴ گیگ اینترنت هدیه دیروز به من  دادی ...  negative\n",
       "9335  سلام ببخشید من سیمکارتم دائمی هست بعد بدهی ام ...  negative\n",
       "\n",
       "[9336 rows x 2 columns]"
      ]
     },
     "execution_count": 4,
     "metadata": {},
     "output_type": "execute_result"
    }
   ],
   "source": [
    "# replace the matching strings\n",
    "df = df.replace(to_replace ='(@[A-Za-z0-9]+)', value = '', regex = True)\n",
    "df"
   ]
  },
  {
   "cell_type": "markdown",
   "metadata": {},
   "source": [
    "# Removing stopwords from persian nonverbal stopwords file alongside"
   ]
  },
  {
   "cell_type": "code",
   "execution_count": 5,
   "metadata": {},
   "outputs": [],
   "source": [
    "def remove_stopwords(data, stopwords_file):\n",
    "    with open(stopwords_file,encoding=\"utf-8\") as f:\n",
    "        stopwords = [list(map(str, line.split())) for line in f]\n",
    "        stopwords = [word[0] for word in stopwords]\n",
    "        print(stopwords)\n",
    "        data['review without stopwords'] = data['Sentence'].apply(lambda x : ' '.join([word for word in x.split() if word not in (stopwords)]))\n",
    "    return data"
   ]
  },
  {
   "cell_type": "code",
   "execution_count": 6,
   "metadata": {},
   "outputs": [
    {
     "name": "stdout",
     "output_type": "stream",
     "text": [
      "['دیگران', 'همچنان', 'مدت', 'چیز', 'سایر', 'جا', 'طی', 'کل', 'کنونی', 'بیرون', 'مثلا', 'کامل', 'کاملا', 'آنکه', 'موارد', 'واقعی', 'امور', 'امورات', 'اکنون', 'بطور', 'به', 'بخشی', 'تحت', 'چگونه', 'عدم', 'نوعی', 'حاضر', 'وضع', 'مقابل', 'کنار', 'خویش', 'نگاه', 'درون', 'زمانی', 'بنابراین', 'بنابرین', 'تو', 'خیلی', 'بزرگ', 'خودش', 'جز', 'اینجا', 'مختلف', 'توسط', 'نوع', 'همچنین', 'آنجا', 'قبل', 'جناح', 'اینها', 'طور', 'شاید', 'ایشان', 'جهت', 'طریق', 'مانند', 'پیدا', 'ممکن', 'کسانی', 'جای', 'کسی', 'غیر', 'بی', 'قابل', 'درباره', 'جدید', 'وقتی', 'اخیر', 'چرا', 'بیش', 'روی', 'طرف', 'جریان', 'زیر', 'آنچه', 'البته', 'فقط', 'چیزی', 'چون', 'برابر', 'هنوز', 'بخش', 'زمینه', 'بین', 'بدون', 'استفاد', 'همان', 'نشان', 'بسیاری', 'بعد', 'عمل', 'روز', 'اعلام', 'چند', 'آنان', 'بلکه', 'امروز', 'تمام', 'بیشتر', 'آیا', 'برخی', 'علیه', 'دیگری', 'ویژه', 'گذشته', 'انجام', 'حتی', 'داده', 'راه', 'سوی', 'ولی', 'زمان', 'حال', 'تنها', 'بسیار', 'یعنی', 'عنوان', 'همین', 'هبچ', 'پیش', 'وی', 'یکی', 'اینکه', 'وجود', 'شما', 'پس', 'چنین', 'میان', 'مورد', 'چه', 'اگر', 'همه', 'نه', 'دیگر', 'آنها', 'باید', 'هر', 'او', 'ما', 'من', 'تا', 'نیز', 'اما', 'یک', 'خود', 'بر', 'یا', 'هم', 'را', 'این', 'با', 'آن', 'برای', 'و', 'در', 'به', 'که', 'از']\n"
     ]
    },
    {
     "name": "stderr",
     "output_type": "stream",
     "text": [
      "/Library/Frameworks/Python.framework/Versions/3.7/lib/python3.7/site-packages/ipykernel_launcher.py:3: FutureWarning: The default value of regex will change from True to False in a future version.\n",
      "  This is separate from the ipykernel package so we can avoid doing imports until\n"
     ]
    },
    {
     "data": {
      "text/html": [
       "<div>\n",
       "<style scoped>\n",
       "    .dataframe tbody tr th:only-of-type {\n",
       "        vertical-align: middle;\n",
       "    }\n",
       "\n",
       "    .dataframe tbody tr th {\n",
       "        vertical-align: top;\n",
       "    }\n",
       "\n",
       "    .dataframe thead th {\n",
       "        text-align: right;\n",
       "    }\n",
       "</style>\n",
       "<table border=\"1\" class=\"dataframe\">\n",
       "  <thead>\n",
       "    <tr style=\"text-align: right;\">\n",
       "      <th></th>\n",
       "      <th>Sentence</th>\n",
       "      <th>Label</th>\n",
       "      <th>review without stopwords</th>\n",
       "      <th>clean_review</th>\n",
       "    </tr>\n",
       "  </thead>\n",
       "  <tbody>\n",
       "    <tr>\n",
       "      <th>0</th>\n",
       "      <td>از طریق گوشی4جی و با استفاده از بسته های نامح...</td>\n",
       "      <td>negative</td>\n",
       "      <td>گوشی4جی استفاده بسته های نامحدود ساعتی قبلا سر...</td>\n",
       "      <td>گوشی4جی استفاده بسته های نامحدود ساعتی قبلا سر...</td>\n",
       "    </tr>\n",
       "    <tr>\n",
       "      <th>1</th>\n",
       "      <td>یه منشی خانم با حقوق ملیونی نیازمندیم... متاهل...</td>\n",
       "      <td>neutral</td>\n",
       "      <td>یه منشی خانم حقوق ملیونی نیازمندیم... متاهل مجرد</td>\n",
       "      <td>یه منشی خانم حقوق ملیونی نیازمندیم    متاهل مجرد</td>\n",
       "    </tr>\n",
       "    <tr>\n",
       "      <th>2</th>\n",
       "      <td>۱۹ تیر ۲/۵ گیگ با ۵ گیگ شبانه زورکی دادین امرو...</td>\n",
       "      <td>negative</td>\n",
       "      <td>۱۹ تیر ۲/۵ گیگ ۵ گیگ شبانه زورکی دادین ۲۱ تیره...</td>\n",
       "      <td>۱۹ تیر ۲ ۵ گیگ ۵ گیگ شبانه زورکی دادین ۲۱ تیره...</td>\n",
       "    </tr>\n",
       "    <tr>\n",
       "      <th>3</th>\n",
       "      <td>بهاره کیان افشار</td>\n",
       "      <td>neutral</td>\n",
       "      <td>بهاره کیان افشار</td>\n",
       "      <td>بهاره کیان افشار</td>\n",
       "    </tr>\n",
       "    <tr>\n",
       "      <th>4</th>\n",
       "      <td>حرومزاده</td>\n",
       "      <td>negative</td>\n",
       "      <td>حرومزاده</td>\n",
       "      <td>حرومزاده</td>\n",
       "    </tr>\n",
       "    <tr>\n",
       "      <th>...</th>\n",
       "      <td>...</td>\n",
       "      <td>...</td>\n",
       "      <td>...</td>\n",
       "      <td>...</td>\n",
       "    </tr>\n",
       "    <tr>\n",
       "      <th>9331</th>\n",
       "      <td>شمایید بزرگترین اپراتور دیتای ایران😐😂</td>\n",
       "      <td>negative</td>\n",
       "      <td>شمایید بزرگترین اپراتور دیتای ایران😐😂</td>\n",
       "      <td>شمایید بزرگترین اپراتور دیتای ایران😐😂</td>\n",
       "    </tr>\n",
       "    <tr>\n",
       "      <th>9332</th>\n",
       "      <td>سلام میگم یک گیگ 100تومان واقعیت داره</td>\n",
       "      <td>neutral</td>\n",
       "      <td>سلام میگم گیگ 100تومان واقعیت داره</td>\n",
       "      <td>سلام میگم گیگ 100تومان واقعیت داره</td>\n",
       "    </tr>\n",
       "    <tr>\n",
       "      <th>9333</th>\n",
       "      <td>سلام ایرانسل عزیز آیا طرح یک ساعت مکالمه رایگ...</td>\n",
       "      <td>neutral</td>\n",
       "      <td>سلام ایرانسل عزیز طرح ساعت مکالمه رایگان دائمی...</td>\n",
       "      <td>سلام ایرانسل عزیز طرح ساعت مکالمه رایگان دائمی...</td>\n",
       "    </tr>\n",
       "    <tr>\n",
       "      <th>9334</th>\n",
       "      <td>ایرانسل ۱۴ گیگ اینترنت هدیه دیروز به من  دادی ...</td>\n",
       "      <td>negative</td>\n",
       "      <td>ایرانسل ۱۴ گیگ اینترنت هدیه دیروز دادی پیام دا...</td>\n",
       "      <td>ایرانسل ۱۴ گیگ اینترنت هدیه دیروز دادی پیام دا...</td>\n",
       "    </tr>\n",
       "    <tr>\n",
       "      <th>9335</th>\n",
       "      <td>سلام ببخشید من سیمکارتم دائمی هست بعد بدهی ام ...</td>\n",
       "      <td>negative</td>\n",
       "      <td>سلام ببخشید سیمکارتم دائمی هست بدهی ام 26 بود ...</td>\n",
       "      <td>سلام ببخشید سیمکارتم دائمی هست بدهی ام 26 بود ...</td>\n",
       "    </tr>\n",
       "  </tbody>\n",
       "</table>\n",
       "<p>9336 rows × 4 columns</p>\n",
       "</div>"
      ],
      "text/plain": [
       "                                               Sentence     Label  \\\n",
       "0      از طریق گوشی4جی و با استفاده از بسته های نامح...  negative   \n",
       "1     یه منشی خانم با حقوق ملیونی نیازمندیم... متاهل...   neutral   \n",
       "2     ۱۹ تیر ۲/۵ گیگ با ۵ گیگ شبانه زورکی دادین امرو...  negative   \n",
       "3                                      بهاره کیان افشار   neutral   \n",
       "4                                              حرومزاده  negative   \n",
       "...                                                 ...       ...   \n",
       "9331              شمایید بزرگترین اپراتور دیتای ایران😐😂  negative   \n",
       "9332              سلام میگم یک گیگ 100تومان واقعیت داره   neutral   \n",
       "9333   سلام ایرانسل عزیز آیا طرح یک ساعت مکالمه رایگ...   neutral   \n",
       "9334  ایرانسل ۱۴ گیگ اینترنت هدیه دیروز به من  دادی ...  negative   \n",
       "9335  سلام ببخشید من سیمکارتم دائمی هست بعد بدهی ام ...  negative   \n",
       "\n",
       "                               review without stopwords  \\\n",
       "0     گوشی4جی استفاده بسته های نامحدود ساعتی قبلا سر...   \n",
       "1      یه منشی خانم حقوق ملیونی نیازمندیم... متاهل مجرد   \n",
       "2     ۱۹ تیر ۲/۵ گیگ ۵ گیگ شبانه زورکی دادین ۲۱ تیره...   \n",
       "3                                      بهاره کیان افشار   \n",
       "4                                              حرومزاده   \n",
       "...                                                 ...   \n",
       "9331              شمایید بزرگترین اپراتور دیتای ایران😐😂   \n",
       "9332                 سلام میگم گیگ 100تومان واقعیت داره   \n",
       "9333  سلام ایرانسل عزیز طرح ساعت مکالمه رایگان دائمی...   \n",
       "9334  ایرانسل ۱۴ گیگ اینترنت هدیه دیروز دادی پیام دا...   \n",
       "9335  سلام ببخشید سیمکارتم دائمی هست بدهی ام 26 بود ...   \n",
       "\n",
       "                                           clean_review  \n",
       "0     گوشی4جی استفاده بسته های نامحدود ساعتی قبلا سر...  \n",
       "1      یه منشی خانم حقوق ملیونی نیازمندیم    متاهل مجرد  \n",
       "2     ۱۹ تیر ۲ ۵ گیگ ۵ گیگ شبانه زورکی دادین ۲۱ تیره...  \n",
       "3                                      بهاره کیان افشار  \n",
       "4                                              حرومزاده  \n",
       "...                                                 ...  \n",
       "9331              شمایید بزرگترین اپراتور دیتای ایران😐😂  \n",
       "9332                 سلام میگم گیگ 100تومان واقعیت داره  \n",
       "9333  سلام ایرانسل عزیز طرح ساعت مکالمه رایگان دائمی...  \n",
       "9334  ایرانسل ۱۴ گیگ اینترنت هدیه دیروز دادی پیام دا...  \n",
       "9335  سلام ببخشید سیمکارتم دائمی هست بدهی ام 26 بود ...  \n",
       "\n",
       "[9336 rows x 4 columns]"
      ]
     },
     "execution_count": 6,
     "metadata": {},
     "output_type": "execute_result"
    }
   ],
   "source": [
    "df = remove_stopwords(df, 'nonverbal')\n",
    "# data_without_stopwords['clean_review']= data_without_stopwords['review without stopwords'].apply(lambda cw : remove_tags(cw))\n",
    "df['clean_review'] = df['review without stopwords'].str.replace('[{}]'.format(string.punctuation), ' ')\n",
    "df"
   ]
  },
  {
   "cell_type": "code",
   "execution_count": 7,
   "metadata": {},
   "outputs": [],
   "source": [
    "y = pd.get_dummies(df['Label']).values\n",
    "sentences = df['clean_review']\n",
    "X_train = sentences\n",
    "Y_train = y"
   ]
  },
  {
   "cell_type": "code",
   "execution_count": 8,
   "metadata": {},
   "outputs": [],
   "source": [
    "tokenizer = Tokenizer(num_words=5000)\n",
    "tokenizer.fit_on_texts(X_train)\n",
    "\n",
    "words_to_index = tokenizer.word_index"
   ]
  },
  {
   "cell_type": "code",
   "execution_count": 9,
   "metadata": {},
   "outputs": [],
   "source": [
    "import pickle\n",
    "with open('tokenizer.pickle', 'wb') as handle:\n",
    "    pickle.dump(tokenizer, handle, protocol=pickle.HIGHEST_PROTOCOL)"
   ]
  },
  {
   "cell_type": "markdown",
   "metadata": {},
   "source": [
    "# Glove Vector Function"
   ]
  },
  {
   "cell_type": "code",
   "execution_count": 10,
   "metadata": {},
   "outputs": [],
   "source": [
    "def read_glove_vector(glove_vec):\n",
    "    with open(glove_vec, 'r', encoding='UTF-8') as f:\n",
    "        words = set()\n",
    "        word_to_vec_map = {}\n",
    "        for line in f:\n",
    "            w_line = line.split()\n",
    "            curr_word = w_line[0]\n",
    "            word_to_vec_map[curr_word] = np.array(w_line[1:], dtype=np.float64)\n",
    "    return word_to_vec_map"
   ]
  },
  {
   "cell_type": "markdown",
   "metadata": {},
   "source": [
    "# Creating the embedding layer"
   ]
  },
  {
   "cell_type": "code",
   "execution_count": 11,
   "metadata": {},
   "outputs": [],
   "source": [
    "word_to_vec_map = read_glove_vector('vectors.txt')\n",
    "\n",
    "maxLen = 20\n",
    "\n",
    "vocab_len = len(words_to_index)\n",
    "embed_vector_len = word_to_vec_map['سلام'].shape[0]\n",
    "\n",
    "emb_matrix = np.zeros((vocab_len, embed_vector_len))\n",
    "\n",
    "for word, index in words_to_index.items():\n",
    "  embedding_vector = word_to_vec_map.get(word)\n",
    "  if embedding_vector is not None:\n",
    "    emb_matrix[index, :] = embedding_vector\n",
    "\n",
    "embedding_layer = Embedding(input_dim=vocab_len,\n",
    "                            output_dim=embed_vector_len,\n",
    "                            input_length=maxLen,\n",
    "                            weights = [emb_matrix],\n",
    "                            trainable=False)"
   ]
  },
  {
   "cell_type": "markdown",
   "metadata": {},
   "source": [
    "# Model structure function"
   ]
  },
  {
   "cell_type": "code",
   "execution_count": 12,
   "metadata": {},
   "outputs": [],
   "source": [
    "def persian_tc(input_shape):\n",
    "\n",
    "  X_indices = Input(input_shape)\n",
    "\n",
    "  embeddings = embedding_layer(X_indices)\n",
    "\n",
    "  X = LSTM(128, return_sequences=True)(embeddings)\n",
    "\n",
    "  X = Dropout(0.5)(X)\n",
    "\n",
    "  X = LSTM(128, return_sequences=True)(X)\n",
    "\n",
    "  X = Dropout(0.5)(X)\n",
    "\n",
    "  X = LSTM(128, return_sequences=True)(X)\n",
    "\n",
    "  X = Dropout(0.5)(X)\n",
    "\n",
    "  X = LSTM(64)(X)\n",
    "  \n",
    "  X = Dense(3, activation='softmax')(X)\n",
    "\n",
    "  model = Model(inputs=X_indices, outputs=X)\n",
    "\n",
    "  return model"
   ]
  },
  {
   "cell_type": "code",
   "execution_count": 13,
   "metadata": {},
   "outputs": [
    {
     "name": "stdout",
     "output_type": "stream",
     "text": [
      "Model: \"model\"\n",
      "_________________________________________________________________\n",
      " Layer (type)                Output Shape              Param #   \n",
      "=================================================================\n",
      " input_1 (InputLayer)        [(None, 20)]              0         \n",
      "                                                                 \n",
      " embedding (Embedding)       (None, 20, 50)            1083650   \n",
      "                                                                 \n",
      " lstm (LSTM)                 (None, 20, 128)           91648     \n",
      "                                                                 \n",
      " dropout (Dropout)           (None, 20, 128)           0         \n",
      "                                                                 \n",
      " lstm_1 (LSTM)               (None, 20, 128)           131584    \n",
      "                                                                 \n",
      " dropout_1 (Dropout)         (None, 20, 128)           0         \n",
      "                                                                 \n",
      " lstm_2 (LSTM)               (None, 20, 128)           131584    \n",
      "                                                                 \n",
      " dropout_2 (Dropout)         (None, 20, 128)           0         \n",
      "                                                                 \n",
      " lstm_3 (LSTM)               (None, 64)                49408     \n",
      "                                                                 \n",
      " dense (Dense)               (None, 3)                 195       \n",
      "                                                                 \n",
      "=================================================================\n",
      "Total params: 1,488,069\n",
      "Trainable params: 404,419\n",
      "Non-trainable params: 1,083,650\n",
      "_________________________________________________________________\n"
     ]
    }
   ],
   "source": [
    "model = persian_tc((maxLen,))\n",
    "model.summary()"
   ]
  },
  {
   "cell_type": "markdown",
   "metadata": {},
   "source": [
    "# Tokenizing and padding the training data"
   ]
  },
  {
   "cell_type": "code",
   "execution_count": 14,
   "metadata": {},
   "outputs": [
    {
     "data": {
      "text/plain": [
       "(9336, 20)"
      ]
     },
     "execution_count": 14,
     "metadata": {},
     "output_type": "execute_result"
    }
   ],
   "source": [
    "X_train_indices = tokenizer.texts_to_sequences(X_train)\n",
    "\n",
    "X_train_indices = pad_sequences(X_train_indices, maxlen=maxLen, padding='post')\n",
    "X_train_indices.shape"
   ]
  },
  {
   "cell_type": "code",
   "execution_count": 15,
   "metadata": {},
   "outputs": [],
   "source": [
    "adam = keras.optimizers.adam_v2.Adam(learning_rate = 0.001)\n",
    "model.compile(optimizer=adam, loss='categorical_crossentropy', metrics=['accuracy'])"
   ]
  },
  {
   "cell_type": "code",
   "execution_count": 16,
   "metadata": {},
   "outputs": [],
   "source": [
    "X_train_indices, Y_train = shuffle(X_train_indices, Y_train)"
   ]
  },
  {
   "cell_type": "code",
   "execution_count": 18,
   "metadata": {},
   "outputs": [],
   "source": [
    "checkpoint_filepath = 'W_glove'\n",
    "model_checkpoint_callback = keras.callbacks.ModelCheckpoint(\n",
    "    filepath=checkpoint_filepath,\n",
    "    save_weights_only=True,\n",
    "    monitor='val_accuracy',\n",
    "    mode='max',\n",
    "    save_best_only=True)"
   ]
  },
  {
   "cell_type": "code",
   "execution_count": 19,
   "metadata": {},
   "outputs": [
    {
     "name": "stdout",
     "output_type": "stream",
     "text": [
      "Epoch 1/50\n",
      "234/234 [==============================] - 15s 44ms/step - loss: 0.9105 - accuracy: 0.5708 - val_loss: 0.8642 - val_accuracy: 0.6151\n",
      "Epoch 2/50\n",
      "234/234 [==============================] - 11s 47ms/step - loss: 0.8209 - accuracy: 0.6324 - val_loss: 0.8194 - val_accuracy: 0.6440\n",
      "Epoch 3/50\n",
      "234/234 [==============================] - 11s 47ms/step - loss: 0.7619 - accuracy: 0.6666 - val_loss: 0.7548 - val_accuracy: 0.6676\n",
      "Epoch 4/50\n",
      "234/234 [==============================] - 11s 48ms/step - loss: 0.7142 - accuracy: 0.6892 - val_loss: 0.7511 - val_accuracy: 0.6692\n",
      "Epoch 5/50\n",
      "234/234 [==============================] - 11s 47ms/step - loss: 0.6701 - accuracy: 0.7163 - val_loss: 0.7239 - val_accuracy: 0.6884\n",
      "Epoch 6/50\n",
      "234/234 [==============================] - 11s 47ms/step - loss: 0.6364 - accuracy: 0.7310 - val_loss: 0.6880 - val_accuracy: 0.7104\n",
      "Epoch 7/50\n",
      "234/234 [==============================] - 11s 46ms/step - loss: 0.6098 - accuracy: 0.7484 - val_loss: 0.7556 - val_accuracy: 0.6761\n",
      "Epoch 8/50\n",
      "234/234 [==============================] - 11s 46ms/step - loss: 0.5784 - accuracy: 0.7642 - val_loss: 0.6957 - val_accuracy: 0.7157\n",
      "Epoch 9/50\n",
      "234/234 [==============================] - 11s 47ms/step - loss: 0.5530 - accuracy: 0.7777 - val_loss: 0.6998 - val_accuracy: 0.7088\n",
      "Epoch 10/50\n",
      "234/234 [==============================] - 11s 46ms/step - loss: 0.5267 - accuracy: 0.7839 - val_loss: 0.7156 - val_accuracy: 0.7093\n",
      "Epoch 11/50\n",
      "234/234 [==============================] - 11s 45ms/step - loss: 0.5022 - accuracy: 0.7977 - val_loss: 0.7369 - val_accuracy: 0.7157\n",
      "Epoch 12/50\n",
      "234/234 [==============================] - 11s 45ms/step - loss: 0.4685 - accuracy: 0.8116 - val_loss: 0.7672 - val_accuracy: 0.7024\n",
      "Epoch 13/50\n",
      "234/234 [==============================] - 10s 45ms/step - loss: 0.4357 - accuracy: 0.8266 - val_loss: 0.8003 - val_accuracy: 0.7050\n",
      "Epoch 14/50\n",
      "234/234 [==============================] - 10s 45ms/step - loss: 0.4110 - accuracy: 0.8377 - val_loss: 0.7717 - val_accuracy: 0.7168\n",
      "Epoch 15/50\n",
      "234/234 [==============================] - 9s 37ms/step - loss: 0.3840 - accuracy: 0.8476 - val_loss: 0.7970 - val_accuracy: 0.7179\n",
      "Epoch 16/50\n",
      "234/234 [==============================] - 9s 37ms/step - loss: 0.3699 - accuracy: 0.8523 - val_loss: 0.8887 - val_accuracy: 0.6825\n",
      "Epoch 17/50\n",
      "234/234 [==============================] - 9s 38ms/step - loss: 0.3294 - accuracy: 0.8724 - val_loss: 1.0161 - val_accuracy: 0.7082\n",
      "Epoch 18/50\n",
      "234/234 [==============================] - 10s 44ms/step - loss: 0.3186 - accuracy: 0.8727 - val_loss: 0.9571 - val_accuracy: 0.7050\n",
      "Epoch 19/50\n",
      "234/234 [==============================] - 11s 45ms/step - loss: 0.2934 - accuracy: 0.8838 - val_loss: 1.0662 - val_accuracy: 0.7131\n",
      "Epoch 20/50\n",
      "234/234 [==============================] - 10s 44ms/step - loss: 0.2742 - accuracy: 0.8915 - val_loss: 0.9406 - val_accuracy: 0.7050\n",
      "Epoch 21/50\n",
      "234/234 [==============================] - 10s 45ms/step - loss: 0.2456 - accuracy: 0.9018 - val_loss: 1.1381 - val_accuracy: 0.6975\n",
      "Epoch 22/50\n",
      "234/234 [==============================] - 11s 46ms/step - loss: 0.2462 - accuracy: 0.9077 - val_loss: 1.1752 - val_accuracy: 0.6836\n",
      "Epoch 23/50\n",
      "234/234 [==============================] - 10s 45ms/step - loss: 0.2255 - accuracy: 0.9104 - val_loss: 1.0833 - val_accuracy: 0.6981\n",
      "Epoch 24/50\n",
      "234/234 [==============================] - 11s 46ms/step - loss: 0.2107 - accuracy: 0.9156 - val_loss: 1.2013 - val_accuracy: 0.6895\n",
      "Epoch 25/50\n",
      "234/234 [==============================] - 10s 41ms/step - loss: 0.2200 - accuracy: 0.9162 - val_loss: 1.2519 - val_accuracy: 0.6879\n",
      "Epoch 26/50\n",
      "234/234 [==============================] - 10s 44ms/step - loss: 0.2090 - accuracy: 0.9182 - val_loss: 1.1887 - val_accuracy: 0.7002\n",
      "Epoch 27/50\n",
      "234/234 [==============================] - 11s 45ms/step - loss: 0.1782 - accuracy: 0.9304 - val_loss: 1.2967 - val_accuracy: 0.6863\n",
      "Epoch 28/50\n",
      "234/234 [==============================] - 10s 44ms/step - loss: 0.1788 - accuracy: 0.9293 - val_loss: 1.3018 - val_accuracy: 0.6965\n",
      "Epoch 29/50\n",
      "234/234 [==============================] - 10s 45ms/step - loss: 0.1863 - accuracy: 0.9274 - val_loss: 1.1430 - val_accuracy: 0.7007\n",
      "Epoch 30/50\n",
      "234/234 [==============================] - 11s 47ms/step - loss: 0.1582 - accuracy: 0.9387 - val_loss: 1.3315 - val_accuracy: 0.6927\n",
      "Epoch 31/50\n",
      "234/234 [==============================] - 12s 50ms/step - loss: 0.1594 - accuracy: 0.9360 - val_loss: 1.1949 - val_accuracy: 0.6981\n",
      "Epoch 32/50\n",
      "234/234 [==============================] - 11s 49ms/step - loss: 0.1439 - accuracy: 0.9416 - val_loss: 1.3337 - val_accuracy: 0.6927\n",
      "Epoch 33/50\n",
      "234/234 [==============================] - 12s 53ms/step - loss: 0.1539 - accuracy: 0.9395 - val_loss: 1.3638 - val_accuracy: 0.6708\n",
      "Epoch 34/50\n",
      "234/234 [==============================] - 11s 49ms/step - loss: 0.1578 - accuracy: 0.9363 - val_loss: 1.3210 - val_accuracy: 0.7013\n",
      "Epoch 35/50\n",
      "234/234 [==============================] - 11s 49ms/step - loss: 0.1360 - accuracy: 0.9447 - val_loss: 1.2973 - val_accuracy: 0.7024\n",
      "Epoch 36/50\n",
      "234/234 [==============================] - 11s 49ms/step - loss: 0.1397 - accuracy: 0.9432 - val_loss: 1.4173 - val_accuracy: 0.6970\n",
      "Epoch 37/50\n",
      "234/234 [==============================] - 12s 50ms/step - loss: 0.1501 - accuracy: 0.9381 - val_loss: 1.3663 - val_accuracy: 0.6975\n",
      "Epoch 38/50\n",
      "234/234 [==============================] - 12s 50ms/step - loss: 0.1334 - accuracy: 0.9460 - val_loss: 1.4640 - val_accuracy: 0.6922\n",
      "Epoch 39/50\n",
      "234/234 [==============================] - 12s 49ms/step - loss: 0.1405 - accuracy: 0.9427 - val_loss: 1.3966 - val_accuracy: 0.6879\n",
      "Epoch 40/50\n",
      "234/234 [==============================] - 12s 51ms/step - loss: 0.1377 - accuracy: 0.9442 - val_loss: 1.3125 - val_accuracy: 0.6852\n",
      "Epoch 41/50\n",
      "234/234 [==============================] - 12s 50ms/step - loss: 0.1142 - accuracy: 0.9519 - val_loss: 1.4706 - val_accuracy: 0.6884\n",
      "Epoch 42/50\n",
      "234/234 [==============================] - 12s 50ms/step - loss: 0.1243 - accuracy: 0.9501 - val_loss: 1.4534 - val_accuracy: 0.7056\n",
      "Epoch 43/50\n",
      "234/234 [==============================] - 12s 51ms/step - loss: 0.1175 - accuracy: 0.9525 - val_loss: 1.5443 - val_accuracy: 0.6922\n",
      "Epoch 44/50\n",
      "234/234 [==============================] - 12s 49ms/step - loss: 0.1233 - accuracy: 0.9509 - val_loss: 1.5552 - val_accuracy: 0.6895\n",
      "Epoch 45/50\n",
      "234/234 [==============================] - 11s 49ms/step - loss: 0.1074 - accuracy: 0.9543 - val_loss: 1.7808 - val_accuracy: 0.6825\n",
      "Epoch 46/50\n",
      "234/234 [==============================] - 12s 50ms/step - loss: 0.1628 - accuracy: 0.9363 - val_loss: 1.3300 - val_accuracy: 0.6863\n",
      "Epoch 47/50\n",
      "234/234 [==============================] - 12s 51ms/step - loss: 0.1217 - accuracy: 0.9511 - val_loss: 1.5287 - val_accuracy: 0.6949\n",
      "Epoch 48/50\n",
      "234/234 [==============================] - 12s 51ms/step - loss: 0.1080 - accuracy: 0.9545 - val_loss: 1.5760 - val_accuracy: 0.6825\n",
      "Epoch 49/50\n",
      "234/234 [==============================] - 12s 51ms/step - loss: 0.1107 - accuracy: 0.9529 - val_loss: 1.5884 - val_accuracy: 0.6852\n",
      "Epoch 50/50\n",
      "234/234 [==============================] - 12s 51ms/step - loss: 0.1287 - accuracy: 0.9476 - val_loss: 1.6105 - val_accuracy: 0.6933\n"
     ]
    }
   ],
   "source": [
    "history = model.fit(X_train_indices,\n",
    "                    Y_train,\n",
    "                    validation_split=0.2,\n",
    "                    callbacks=[model_checkpoint_callback],\n",
    "                    batch_size=32,\n",
    "                    epochs=50)"
   ]
  },
  {
   "cell_type": "code",
   "execution_count": 20,
   "metadata": {},
   "outputs": [
    {
     "data": {
      "image/png": "[encoded data removed]",
      "text/plain": [
       "<Figure size 432x288 with 1 Axes>"
      ]
     },
     "metadata": {
      "needs_background": "light"
     },
     "output_type": "display_data"
    }
   ],
   "source": [
    "plt.plot(history.history['accuracy'])\n",
    "plt.plot(history.history['val_accuracy'])\n",
    "plt.title('model accuracy')\n",
    "plt.ylabel('accuracy')\n",
    "plt.xlabel('epoch')\n",
    "plt.legend(['train', 'val'], loc='upper left')\n",
    "plt.show()"
   ]
  },
  {
   "cell_type": "code",
   "execution_count": 21,
   "metadata": {},
   "outputs": [
    {
     "data": {
      "image/png": "[encoded data removed]",
      "text/plain": [
       "<Figure size 432x288 with 1 Axes>"
      ]
     },
     "metadata": {
      "needs_background": "light"
     },
     "output_type": "display_data"
    }
   ],
   "source": [
    "plt.plot(history.history['loss'])\n",
    "plt.plot(history.history['val_loss'])\n",
    "plt.title('model loss')\n",
    "plt.ylabel('loss')\n",
    "plt.xlabel('epoch')\n",
    "plt.legend(['train', 'val'], loc='upper left')\n",
    "plt.show()"
   ]
  },
  {
   "cell_type": "markdown",
   "metadata": {},
   "source": [
    "# Loading the model with best validation accuracy"
   ]
  },
  {
   "cell_type": "code",
   "execution_count": 23,
   "metadata": {},
   "outputs": [
    {
     "data": {
      "text/plain": [
       "<tensorflow.python.training.tracking.util.CheckpointLoadStatus at 0x7ff07fa5e5d0>"
      ]
     },
     "execution_count": 23,
     "metadata": {},
     "output_type": "execute_result"
    }
   ],
   "source": [
    "checkpoint_filepath = \"W_glove/W_glove\"\n",
    "model.load_weights(checkpoint_filepath)"
   ]
  },
  {
   "cell_type": "code",
   "execution_count": 24,
   "metadata": {},
   "outputs": [],
   "source": [
    "with open('validation_final', encoding='utf-8') as json_file:\n",
    "    df_data = []\n",
    "    df_labels = []\n",
    "    data = json.load(json_file)\n",
    "    for i in range(len(data)):\n",
    "        category_data = data[i]['input_list'][0]['post_list']\n",
    "        category_labels = [data[i]['category']] * len(category_data)\n",
    "        df_data += category_data\n",
    "        df_labels += category_labels\n",
    "\n",
    "    df_val = pd.DataFrame(\n",
    "    {'Sentence': df_data,\n",
    "     'Label': df_labels\n",
    "    })"
   ]
  },
  {
   "cell_type": "code",
   "execution_count": 25,
   "metadata": {},
   "outputs": [
    {
     "name": "stdout",
     "output_type": "stream",
     "text": [
      "['دیگران', 'همچنان', 'مدت', 'چیز', 'سایر', 'جا', 'طی', 'کل', 'کنونی', 'بیرون', 'مثلا', 'کامل', 'کاملا', 'آنکه', 'موارد', 'واقعی', 'امور', 'امورات', 'اکنون', 'بطور', 'به', 'بخشی', 'تحت', 'چگونه', 'عدم', 'نوعی', 'حاضر', 'وضع', 'مقابل', 'کنار', 'خویش', 'نگاه', 'درون', 'زمانی', 'بنابراین', 'بنابرین', 'تو', 'خیلی', 'بزرگ', 'خودش', 'جز', 'اینجا', 'مختلف', 'توسط', 'نوع', 'همچنین', 'آنجا', 'قبل', 'جناح', 'اینها', 'طور', 'شاید', 'ایشان', 'جهت', 'طریق', 'مانند', 'پیدا', 'ممکن', 'کسانی', 'جای', 'کسی', 'غیر', 'بی', 'قابل', 'درباره', 'جدید', 'وقتی', 'اخیر', 'چرا', 'بیش', 'روی', 'طرف', 'جریان', 'زیر', 'آنچه', 'البته', 'فقط', 'چیزی', 'چون', 'برابر', 'هنوز', 'بخش', 'زمینه', 'بین', 'بدون', 'استفاد', 'همان', 'نشان', 'بسیاری', 'بعد', 'عمل', 'روز', 'اعلام', 'چند', 'آنان', 'بلکه', 'امروز', 'تمام', 'بیشتر', 'آیا', 'برخی', 'علیه', 'دیگری', 'ویژه', 'گذشته', 'انجام', 'حتی', 'داده', 'راه', 'سوی', 'ولی', 'زمان', 'حال', 'تنها', 'بسیار', 'یعنی', 'عنوان', 'همین', 'هبچ', 'پیش', 'وی', 'یکی', 'اینکه', 'وجود', 'شما', 'پس', 'چنین', 'میان', 'مورد', 'چه', 'اگر', 'همه', 'نه', 'دیگر', 'آنها', 'باید', 'هر', 'او', 'ما', 'من', 'تا', 'نیز', 'اما', 'یک', 'خود', 'بر', 'یا', 'هم', 'را', 'این', 'با', 'آن', 'برای', 'و', 'در', 'به', 'که', 'از']\n"
     ]
    },
    {
     "name": "stderr",
     "output_type": "stream",
     "text": [
      "/Library/Frameworks/Python.framework/Versions/3.7/lib/python3.7/site-packages/ipykernel_launcher.py:4: FutureWarning: The default value of regex will change from True to False in a future version.\n",
      "  after removing the cwd from sys.path.\n"
     ]
    },
    {
     "data": {
      "text/plain": [
       "(450, 20)"
      ]
     },
     "execution_count": 25,
     "metadata": {},
     "output_type": "execute_result"
    }
   ],
   "source": [
    "df_val = df_val.replace(to_replace ='(@[A-Za-z0-9]+)', value = '', regex = True)\n",
    "\n",
    "df_val = remove_stopwords(df_val, 'nonverbal')\n",
    "df_val['clean_review'] = df_val['review without stopwords'].str.replace('[{}]'.format(string.punctuation), ' ')\n",
    "\n",
    "y_val = pd.get_dummies(df_val['Label']).values\n",
    "sentences = df_val['clean_review']\n",
    "\n",
    "X_val = sentences\n",
    "Y_val = y_val\n",
    "\n",
    "X_val_indices = tokenizer.texts_to_sequences(X_val)\n",
    "\n",
    "X_val_indices = pad_sequences(X_val_indices, maxlen=maxLen, padding='post')\n",
    "X_val_indices.shape"
   ]
  },
  {
   "cell_type": "markdown",
   "metadata": {},
   "source": [
    "# Loss and Accuracy on unseen data"
   ]
  },
  {
   "cell_type": "code",
   "execution_count": 26,
   "metadata": {},
   "outputs": [
    {
     "name": "stdout",
     "output_type": "stream",
     "text": [
      "15/15 [==============================] - 0s 14ms/step - loss: 0.9137 - accuracy: 0.6267\n"
     ]
    },
    {
     "data": {
      "text/plain": [
       "[0.9137117266654968, 0.6266666650772095]"
      ]
     },
     "execution_count": 26,
     "metadata": {},
     "output_type": "execute_result"
    }
   ],
   "source": [
    "model.evaluate(X_val_indices, Y_val)"
   ]
  }
 ],
 "metadata": {
  "kernelspec": {
   "display_name": "Python 3",
   "language": "python",
   "name": "python3"
  },
  "language_info": {
   "codemirror_mode": {
    "name": "ipython",
    "version": 3
   },
   "file_extension": ".py",
   "mimetype": "text/x-python",
   "name": "python",
   "nbconvert_exporter": "python",
   "pygments_lexer": "ipython3",
   "version": "3.7.8"
  }
 },
 "nbformat": 4,
 "nbformat_minor": 4
}
