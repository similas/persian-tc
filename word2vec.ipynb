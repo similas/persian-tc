{
 "cells": [
  {
   "cell_type": "markdown",
   "metadata": {},
   "source": [
    "### Importing libraries"
   ]
  },
  {
   "cell_type": "code",
   "execution_count": 1,
   "metadata": {},
   "outputs": [],
   "source": [
    "import re\n",
    "import json\n",
    "import keras\n",
    "import string\n",
    "import gensim\n",
    "import numpy as np\n",
    "import pandas as pd\n",
    "import matplotlib.pyplot as plt\n",
    "from hazm import word_tokenize\n",
    "from keras.models import Model\n",
    "from keras.datasets import imdb\n",
    "from sklearn.utils import shuffle\n",
    "from gensim.models.word2vec import Word2Vec\n",
    "from keras.layers.embeddings import Embedding\n",
    "from keras.preprocessing.text import Tokenizer\n",
    "from sklearn.model_selection import train_test_split\n",
    "from keras.preprocessing.sequence import pad_sequences\n",
    "from sklearn.preprocessing import LabelBinarizer, StandardScaler\n",
    "from keras.layers import LSTM, Activation, Dropout, Dense, Input"
   ]
  },
  {
   "cell_type": "markdown",
   "metadata": {},
   "source": [
    "#### Reading the training data and converting it to dataframe"
   ]
  },
  {
   "cell_type": "code",
   "execution_count": 2,
   "metadata": {},
   "outputs": [],
   "source": [
    "with open('train_final', encoding='utf-8') as json_file:\n",
    "    df_data = []\n",
    "    df_labels = []\n",
    "    data = json.load(json_file)\n",
    "    for i in range(len(data)):\n",
    "        category_data = data[i]['input_list'][0]['post_list']\n",
    "        category_labels = [data[i]['category']] * len(category_data)\n",
    "        df_data += category_data\n",
    "        df_labels += category_labels\n",
    "\n",
    "    df = pd.DataFrame(\n",
    "    {'Sentence': df_data,\n",
    "     'Label': df_labels\n",
    "    })"
   ]
  },
  {
   "cell_type": "code",
   "execution_count": 3,
   "metadata": {},
   "outputs": [
    {
     "data": {
      "text/html": [
       "<div>\n",
       "<style scoped>\n",
       "    .dataframe tbody tr th:only-of-type {\n",
       "        vertical-align: middle;\n",
       "    }\n",
       "\n",
       "    .dataframe tbody tr th {\n",
       "        vertical-align: top;\n",
       "    }\n",
       "\n",
       "    .dataframe thead th {\n",
       "        text-align: right;\n",
       "    }\n",
       "</style>\n",
       "<table border=\"1\" class=\"dataframe\">\n",
       "  <thead>\n",
       "    <tr style=\"text-align: right;\">\n",
       "      <th></th>\n",
       "      <th>Sentence</th>\n",
       "      <th>Label</th>\n",
       "    </tr>\n",
       "  </thead>\n",
       "  <tbody>\n",
       "    <tr>\n",
       "      <th>0</th>\n",
       "      <td>همه درها زندگیم به سوی خیر و برکت گشوده شده اند</td>\n",
       "      <td>positive</td>\n",
       "    </tr>\n",
       "    <tr>\n",
       "      <th>1</th>\n",
       "      <td>سرعت عالی همه چی عالییییی💛❤️💛💛❤️❤️💛❤️</td>\n",
       "      <td>positive</td>\n",
       "    </tr>\n",
       "    <tr>\n",
       "      <th>2</th>\n",
       "      <td>@irancell ‌ بفرستم شماره تلفنم خودتون چک میکنین</td>\n",
       "      <td>neutral</td>\n",
       "    </tr>\n",
       "    <tr>\n",
       "      <th>3</th>\n",
       "      <td>سلام ازاونجا که من همیشه کم شانس هستم افتادبرا...</td>\n",
       "      <td>positive</td>\n",
       "    </tr>\n",
       "    <tr>\n",
       "      <th>4</th>\n",
       "      <td>این بسته های جدید اینترنت چقد مزخرف شده، بسته ...</td>\n",
       "      <td>negative</td>\n",
       "    </tr>\n",
       "    <tr>\n",
       "      <th>...</th>\n",
       "      <td>...</td>\n",
       "      <td>...</td>\n",
       "    </tr>\n",
       "    <tr>\n",
       "      <th>9331</th>\n",
       "      <td>اقا حبیب و مرضیه</td>\n",
       "      <td>neutral</td>\n",
       "    </tr>\n",
       "    <tr>\n",
       "      <th>9332</th>\n",
       "      <td>اخه چرا در تعیین اسپانسر البسه پرسپولیس هم نقش...</td>\n",
       "      <td>negative</td>\n",
       "    </tr>\n",
       "    <tr>\n",
       "      <th>9333</th>\n",
       "      <td>مطالب جالبی دارید 🌹👍 دوست داری توی ۲۸ روز بدون...</td>\n",
       "      <td>positive</td>\n",
       "    </tr>\n",
       "    <tr>\n",
       "      <th>9334</th>\n",
       "      <td>با سلام.ایرانسل جان یه سوال.من یه شماره رند ای...</td>\n",
       "      <td>neutral</td>\n",
       "    </tr>\n",
       "    <tr>\n",
       "      <th>9335</th>\n",
       "      <td>عشق فقط ایرانسل</td>\n",
       "      <td>positive</td>\n",
       "    </tr>\n",
       "  </tbody>\n",
       "</table>\n",
       "<p>9336 rows × 2 columns</p>\n",
       "</div>"
      ],
      "text/plain": [
       "                                               Sentence     Label\n",
       "0       همه درها زندگیم به سوی خیر و برکت گشوده شده اند  positive\n",
       "1                 سرعت عالی همه چی عالییییی💛❤️💛💛❤️❤️💛❤️  positive\n",
       "2       @irancell ‌ بفرستم شماره تلفنم خودتون چک میکنین   neutral\n",
       "3     سلام ازاونجا که من همیشه کم شانس هستم افتادبرا...  positive\n",
       "4     این بسته های جدید اینترنت چقد مزخرف شده، بسته ...  negative\n",
       "...                                                 ...       ...\n",
       "9331                                   اقا حبیب و مرضیه   neutral\n",
       "9332  اخه چرا در تعیین اسپانسر البسه پرسپولیس هم نقش...  negative\n",
       "9333  مطالب جالبی دارید 🌹👍 دوست داری توی ۲۸ روز بدون...  positive\n",
       "9334  با سلام.ایرانسل جان یه سوال.من یه شماره رند ای...   neutral\n",
       "9335                                    عشق فقط ایرانسل  positive\n",
       "\n",
       "[9336 rows x 2 columns]"
      ]
     },
     "execution_count": 3,
     "metadata": {},
     "output_type": "execute_result"
    }
   ],
   "source": [
    "df = df.sample(frac=1).reset_index(drop=True)\n",
    "df"
   ]
  },
  {
   "cell_type": "markdown",
   "metadata": {},
   "source": [
    "#### Removing mentions"
   ]
  },
  {
   "cell_type": "code",
   "execution_count": 4,
   "metadata": {},
   "outputs": [
    {
     "data": {
      "text/html": [
       "<div>\n",
       "<style scoped>\n",
       "    .dataframe tbody tr th:only-of-type {\n",
       "        vertical-align: middle;\n",
       "    }\n",
       "\n",
       "    .dataframe tbody tr th {\n",
       "        vertical-align: top;\n",
       "    }\n",
       "\n",
       "    .dataframe thead th {\n",
       "        text-align: right;\n",
       "    }\n",
       "</style>\n",
       "<table border=\"1\" class=\"dataframe\">\n",
       "  <thead>\n",
       "    <tr style=\"text-align: right;\">\n",
       "      <th></th>\n",
       "      <th>Sentence</th>\n",
       "      <th>Label</th>\n",
       "    </tr>\n",
       "  </thead>\n",
       "  <tbody>\n",
       "    <tr>\n",
       "      <th>0</th>\n",
       "      <td>همه درها زندگیم به سوی خیر و برکت گشوده شده اند</td>\n",
       "      <td>positive</td>\n",
       "    </tr>\n",
       "    <tr>\n",
       "      <th>1</th>\n",
       "      <td>سرعت عالی همه چی عالییییی💛❤️💛💛❤️❤️💛❤️</td>\n",
       "      <td>positive</td>\n",
       "    </tr>\n",
       "    <tr>\n",
       "      <th>2</th>\n",
       "      <td>‌ بفرستم شماره تلفنم خودتون چک میکنین</td>\n",
       "      <td>neutral</td>\n",
       "    </tr>\n",
       "    <tr>\n",
       "      <th>3</th>\n",
       "      <td>سلام ازاونجا که من همیشه کم شانس هستم افتادبرا...</td>\n",
       "      <td>positive</td>\n",
       "    </tr>\n",
       "    <tr>\n",
       "      <th>4</th>\n",
       "      <td>این بسته های جدید اینترنت چقد مزخرف شده، بسته ...</td>\n",
       "      <td>negative</td>\n",
       "    </tr>\n",
       "    <tr>\n",
       "      <th>...</th>\n",
       "      <td>...</td>\n",
       "      <td>...</td>\n",
       "    </tr>\n",
       "    <tr>\n",
       "      <th>9331</th>\n",
       "      <td>اقا حبیب و مرضیه</td>\n",
       "      <td>neutral</td>\n",
       "    </tr>\n",
       "    <tr>\n",
       "      <th>9332</th>\n",
       "      <td>اخه چرا در تعیین اسپانسر البسه پرسپولیس هم نقش...</td>\n",
       "      <td>negative</td>\n",
       "    </tr>\n",
       "    <tr>\n",
       "      <th>9333</th>\n",
       "      <td>مطالب جالبی دارید 🌹👍 دوست داری توی ۲۸ روز بدون...</td>\n",
       "      <td>positive</td>\n",
       "    </tr>\n",
       "    <tr>\n",
       "      <th>9334</th>\n",
       "      <td>با سلام.ایرانسل جان یه سوال.من یه شماره رند ای...</td>\n",
       "      <td>neutral</td>\n",
       "    </tr>\n",
       "    <tr>\n",
       "      <th>9335</th>\n",
       "      <td>عشق فقط ایرانسل</td>\n",
       "      <td>positive</td>\n",
       "    </tr>\n",
       "  </tbody>\n",
       "</table>\n",
       "<p>9336 rows × 2 columns</p>\n",
       "</div>"
      ],
      "text/plain": [
       "                                               Sentence     Label\n",
       "0       همه درها زندگیم به سوی خیر و برکت گشوده شده اند  positive\n",
       "1                 سرعت عالی همه چی عالییییی💛❤️💛💛❤️❤️💛❤️  positive\n",
       "2                 ‌ بفرستم شماره تلفنم خودتون چک میکنین   neutral\n",
       "3     سلام ازاونجا که من همیشه کم شانس هستم افتادبرا...  positive\n",
       "4     این بسته های جدید اینترنت چقد مزخرف شده، بسته ...  negative\n",
       "...                                                 ...       ...\n",
       "9331                                   اقا حبیب و مرضیه   neutral\n",
       "9332  اخه چرا در تعیین اسپانسر البسه پرسپولیس هم نقش...  negative\n",
       "9333  مطالب جالبی دارید 🌹👍 دوست داری توی ۲۸ روز بدون...  positive\n",
       "9334  با سلام.ایرانسل جان یه سوال.من یه شماره رند ای...   neutral\n",
       "9335                                    عشق فقط ایرانسل  positive\n",
       "\n",
       "[9336 rows x 2 columns]"
      ]
     },
     "execution_count": 4,
     "metadata": {},
     "output_type": "execute_result"
    }
   ],
   "source": [
    "# replace the matching strings\n",
    "df = df.replace(to_replace ='(@[A-Za-z0-9]+)', value = '', regex = True)\n",
    "df"
   ]
  },
  {
   "cell_type": "markdown",
   "metadata": {},
   "source": [
    "#### Removing stopwords from persian nonverbal stopwords file alongside"
   ]
  },
  {
   "cell_type": "code",
   "execution_count": 5,
   "metadata": {},
   "outputs": [],
   "source": [
    "def remove_stopwords(data, stopwords_file):\n",
    "    with open(stopwords_file,encoding=\"utf-8\") as f:\n",
    "        stopwords = [list(map(str, line.split())) for line in f]\n",
    "        stopwords = [word[0] for word in stopwords]\n",
    "        print(stopwords)\n",
    "        data['review without stopwords'] = data['Sentence'].apply(lambda x : ' '.join([word for word in x.split() if word not in (stopwords)]))\n",
    "    return data"
   ]
  },
  {
   "cell_type": "code",
   "execution_count": 6,
   "metadata": {},
   "outputs": [
    {
     "name": "stdout",
     "output_type": "stream",
     "text": [
      "['دیگران', 'همچنان', 'مدت', 'چیز', 'سایر', 'جا', 'طی', 'کل', 'کنونی', 'بیرون', 'مثلا', 'کامل', 'کاملا', 'آنکه', 'موارد', 'واقعی', 'امور', 'امورات', 'اکنون', 'بطور', 'به', 'بخشی', 'تحت', 'چگونه', 'عدم', 'نوعی', 'حاضر', 'وضع', 'مقابل', 'کنار', 'خویش', 'نگاه', 'درون', 'زمانی', 'بنابراین', 'بنابرین', 'تو', 'خیلی', 'بزرگ', 'خودش', 'جز', 'اینجا', 'مختلف', 'توسط', 'نوع', 'همچنین', 'آنجا', 'قبل', 'جناح', 'اینها', 'طور', 'شاید', 'ایشان', 'جهت', 'طریق', 'مانند', 'پیدا', 'ممکن', 'کسانی', 'جای', 'کسی', 'غیر', 'بی', 'قابل', 'درباره', 'جدید', 'وقتی', 'اخیر', 'چرا', 'بیش', 'روی', 'طرف', 'جریان', 'زیر', 'آنچه', 'البته', 'فقط', 'چیزی', 'چون', 'برابر', 'هنوز', 'بخش', 'زمینه', 'بین', 'بدون', 'استفاد', 'همان', 'نشان', 'بسیاری', 'بعد', 'عمل', 'روز', 'اعلام', 'چند', 'آنان', 'بلکه', 'امروز', 'تمام', 'بیشتر', 'آیا', 'برخی', 'علیه', 'دیگری', 'ویژه', 'گذشته', 'انجام', 'حتی', 'داده', 'راه', 'سوی', 'ولی', 'زمان', 'حال', 'تنها', 'بسیار', 'یعنی', 'عنوان', 'همین', 'هبچ', 'پیش', 'وی', 'یکی', 'اینکه', 'وجود', 'شما', 'پس', 'چنین', 'میان', 'مورد', 'چه', 'اگر', 'همه', 'نه', 'دیگر', 'آنها', 'باید', 'هر', 'او', 'ما', 'من', 'تا', 'نیز', 'اما', 'یک', 'خود', 'بر', 'یا', 'هم', 'را', 'این', 'با', 'آن', 'برای', 'و', 'در', 'به', 'که', 'از']\n"
     ]
    },
    {
     "name": "stderr",
     "output_type": "stream",
     "text": [
      "/Library/Frameworks/Python.framework/Versions/3.7/lib/python3.7/site-packages/ipykernel_launcher.py:2: FutureWarning: The default value of regex will change from True to False in a future version.\n",
      "  \n"
     ]
    },
    {
     "data": {
      "text/html": [
       "<div>\n",
       "<style scoped>\n",
       "    .dataframe tbody tr th:only-of-type {\n",
       "        vertical-align: middle;\n",
       "    }\n",
       "\n",
       "    .dataframe tbody tr th {\n",
       "        vertical-align: top;\n",
       "    }\n",
       "\n",
       "    .dataframe thead th {\n",
       "        text-align: right;\n",
       "    }\n",
       "</style>\n",
       "<table border=\"1\" class=\"dataframe\">\n",
       "  <thead>\n",
       "    <tr style=\"text-align: right;\">\n",
       "      <th></th>\n",
       "      <th>Sentence</th>\n",
       "      <th>Label</th>\n",
       "      <th>review without stopwords</th>\n",
       "      <th>clean_review</th>\n",
       "    </tr>\n",
       "  </thead>\n",
       "  <tbody>\n",
       "    <tr>\n",
       "      <th>0</th>\n",
       "      <td>همه درها زندگیم به سوی خیر و برکت گشوده شده اند</td>\n",
       "      <td>positive</td>\n",
       "      <td>درها زندگیم خیر برکت گشوده شده اند</td>\n",
       "      <td>درها زندگیم خیر برکت گشوده شده اند</td>\n",
       "    </tr>\n",
       "    <tr>\n",
       "      <th>1</th>\n",
       "      <td>سرعت عالی همه چی عالییییی💛❤️💛💛❤️❤️💛❤️</td>\n",
       "      <td>positive</td>\n",
       "      <td>سرعت عالی چی عالییییی💛❤️💛💛❤️❤️💛❤️</td>\n",
       "      <td>سرعت عالی چی عالییییی💛❤️💛💛❤️❤️💛❤️</td>\n",
       "    </tr>\n",
       "    <tr>\n",
       "      <th>2</th>\n",
       "      <td>‌ بفرستم شماره تلفنم خودتون چک میکنین</td>\n",
       "      <td>neutral</td>\n",
       "      <td>‌ بفرستم شماره تلفنم خودتون چک میکنین</td>\n",
       "      <td>‌ بفرستم شماره تلفنم خودتون چک میکنین</td>\n",
       "    </tr>\n",
       "    <tr>\n",
       "      <th>3</th>\n",
       "      <td>سلام ازاونجا که من همیشه کم شانس هستم افتادبرا...</td>\n",
       "      <td>positive</td>\n",
       "      <td>سلام ازاونجا همیشه کم شانس هستم افتادبرای سال ...</td>\n",
       "      <td>سلام ازاونجا همیشه کم شانس هستم افتادبرای سال ...</td>\n",
       "    </tr>\n",
       "    <tr>\n",
       "      <th>4</th>\n",
       "      <td>این بسته های جدید اینترنت چقد مزخرف شده، بسته ...</td>\n",
       "      <td>negative</td>\n",
       "      <td>بسته های اینترنت چقد مزخرف شده، بسته ی سه گیگ ...</td>\n",
       "      <td>بسته های اینترنت چقد مزخرف شده، بسته ی سه گیگ ...</td>\n",
       "    </tr>\n",
       "    <tr>\n",
       "      <th>...</th>\n",
       "      <td>...</td>\n",
       "      <td>...</td>\n",
       "      <td>...</td>\n",
       "      <td>...</td>\n",
       "    </tr>\n",
       "    <tr>\n",
       "      <th>9331</th>\n",
       "      <td>اقا حبیب و مرضیه</td>\n",
       "      <td>neutral</td>\n",
       "      <td>اقا حبیب مرضیه</td>\n",
       "      <td>اقا حبیب مرضیه</td>\n",
       "    </tr>\n",
       "    <tr>\n",
       "      <th>9332</th>\n",
       "      <td>اخه چرا در تعیین اسپانسر البسه پرسپولیس هم نقش...</td>\n",
       "      <td>negative</td>\n",
       "      <td>اخه تعیین اسپانسر البسه پرسپولیس نقش دارید.بعد...</td>\n",
       "      <td>اخه تعیین اسپانسر البسه پرسپولیس نقش دارید بعد...</td>\n",
       "    </tr>\n",
       "    <tr>\n",
       "      <th>9333</th>\n",
       "      <td>مطالب جالبی دارید 🌹👍 دوست داری توی ۲۸ روز بدون...</td>\n",
       "      <td>positive</td>\n",
       "      <td>مطالب جالبی دارید 🌹👍 دوست داری توی ۲۸ گرسنگی ل...</td>\n",
       "      <td>مطالب جالبی دارید 🌹👍 دوست داری توی ۲۸ گرسنگی ل...</td>\n",
       "    </tr>\n",
       "    <tr>\n",
       "      <th>9334</th>\n",
       "      <td>با سلام.ایرانسل جان یه سوال.من یه شماره رند ای...</td>\n",
       "      <td>neutral</td>\n",
       "      <td>سلام.ایرانسل جان یه سوال.من یه شماره رند ایران...</td>\n",
       "      <td>سلام ایرانسل جان یه سوال من یه شماره رند ایران...</td>\n",
       "    </tr>\n",
       "    <tr>\n",
       "      <th>9335</th>\n",
       "      <td>عشق فقط ایرانسل</td>\n",
       "      <td>positive</td>\n",
       "      <td>عشق ایرانسل</td>\n",
       "      <td>عشق ایرانسل</td>\n",
       "    </tr>\n",
       "  </tbody>\n",
       "</table>\n",
       "<p>9336 rows × 4 columns</p>\n",
       "</div>"
      ],
      "text/plain": [
       "                                               Sentence     Label  \\\n",
       "0       همه درها زندگیم به سوی خیر و برکت گشوده شده اند  positive   \n",
       "1                 سرعت عالی همه چی عالییییی💛❤️💛💛❤️❤️💛❤️  positive   \n",
       "2                 ‌ بفرستم شماره تلفنم خودتون چک میکنین   neutral   \n",
       "3     سلام ازاونجا که من همیشه کم شانس هستم افتادبرا...  positive   \n",
       "4     این بسته های جدید اینترنت چقد مزخرف شده، بسته ...  negative   \n",
       "...                                                 ...       ...   \n",
       "9331                                   اقا حبیب و مرضیه   neutral   \n",
       "9332  اخه چرا در تعیین اسپانسر البسه پرسپولیس هم نقش...  negative   \n",
       "9333  مطالب جالبی دارید 🌹👍 دوست داری توی ۲۸ روز بدون...  positive   \n",
       "9334  با سلام.ایرانسل جان یه سوال.من یه شماره رند ای...   neutral   \n",
       "9335                                    عشق فقط ایرانسل  positive   \n",
       "\n",
       "                               review without stopwords  \\\n",
       "0                    درها زندگیم خیر برکت گشوده شده اند   \n",
       "1                     سرعت عالی چی عالییییی💛❤️💛💛❤️❤️💛❤️   \n",
       "2                 ‌ بفرستم شماره تلفنم خودتون چک میکنین   \n",
       "3     سلام ازاونجا همیشه کم شانس هستم افتادبرای سال ...   \n",
       "4     بسته های اینترنت چقد مزخرف شده، بسته ی سه گیگ ...   \n",
       "...                                                 ...   \n",
       "9331                                     اقا حبیب مرضیه   \n",
       "9332  اخه تعیین اسپانسر البسه پرسپولیس نقش دارید.بعد...   \n",
       "9333  مطالب جالبی دارید 🌹👍 دوست داری توی ۲۸ گرسنگی ل...   \n",
       "9334  سلام.ایرانسل جان یه سوال.من یه شماره رند ایران...   \n",
       "9335                                        عشق ایرانسل   \n",
       "\n",
       "                                           clean_review  \n",
       "0                    درها زندگیم خیر برکت گشوده شده اند  \n",
       "1                     سرعت عالی چی عالییییی💛❤️💛💛❤️❤️💛❤️  \n",
       "2                 ‌ بفرستم شماره تلفنم خودتون چک میکنین  \n",
       "3     سلام ازاونجا همیشه کم شانس هستم افتادبرای سال ...  \n",
       "4     بسته های اینترنت چقد مزخرف شده، بسته ی سه گیگ ...  \n",
       "...                                                 ...  \n",
       "9331                                     اقا حبیب مرضیه  \n",
       "9332  اخه تعیین اسپانسر البسه پرسپولیس نقش دارید بعد...  \n",
       "9333  مطالب جالبی دارید 🌹👍 دوست داری توی ۲۸ گرسنگی ل...  \n",
       "9334  سلام ایرانسل جان یه سوال من یه شماره رند ایران...  \n",
       "9335                                        عشق ایرانسل  \n",
       "\n",
       "[9336 rows x 4 columns]"
      ]
     },
     "execution_count": 6,
     "metadata": {},
     "output_type": "execute_result"
    }
   ],
   "source": [
    "df = remove_stopwords(df, 'nonverbal')\n",
    "df['clean_review'] = df['review without stopwords'].str.replace('[{}]'.format(string.punctuation), ' ')\n",
    "df"
   ]
  },
  {
   "cell_type": "code",
   "execution_count": 7,
   "metadata": {},
   "outputs": [],
   "source": [
    "y = pd.get_dummies(df['Label']).values\n",
    "sentences = df['clean_review']\n",
    "X_train = sentences\n",
    "Y_train = y"
   ]
  },
  {
   "cell_type": "code",
   "execution_count": 8,
   "metadata": {},
   "outputs": [],
   "source": [
    "tokenizer = Tokenizer(num_words=5000)\n",
    "tokenizer.fit_on_texts(X_train)\n",
    "\n",
    "words_to_index = tokenizer.word_index"
   ]
  },
  {
   "cell_type": "markdown",
   "metadata": {},
   "source": [
    "#### Constructing word2vec model"
   ]
  },
  {
   "cell_type": "code",
   "execution_count": 9,
   "metadata": {},
   "outputs": [],
   "source": [
    "# Storing comments in list\n",
    "comments = [comment for comment in df.Sentence]\n",
    "sents = [word_tokenize(comment) for comment in comments]\n",
    "model_w2v = Word2Vec(sentences=sents,  window=10, min_count=5, seed=42, workers=5)\n",
    "model_w2v.save('word2vec.kv')\n",
    "word2vec_kv = model_w2v.wv"
   ]
  },
  {
   "cell_type": "markdown",
   "metadata": {},
   "source": [
    "#### Creating word2vec dictionary"
   ]
  },
  {
   "cell_type": "code",
   "execution_count": 12,
   "metadata": {},
   "outputs": [],
   "source": [
    "import pickle\n",
    "w2v_dict = dict()\n",
    "for word in word2vec_kv.index2word:\n",
    "    w2v_dict[word] = word2vec_kv[word]"
   ]
  },
  {
   "cell_type": "code",
   "execution_count": 14,
   "metadata": {},
   "outputs": [],
   "source": [
    "with open('w2v_dict.p', 'wb') as fp:\n",
    "    pickle.dump(w2v_dict, fp, protocol=pickle.HIGHEST_PROTOCOL)\n",
    "with open('w2v_dict.p', 'rb') as fp:\n",
    "    dataaa = pickle.load(fp)"
   ]
  },
  {
   "cell_type": "code",
   "execution_count": 15,
   "metadata": {},
   "outputs": [
    {
     "data": {
      "text/plain": [
       "array([-0.06339327, -0.04114379,  0.09598345, -0.02475059,  0.04265553,\n",
       "       -0.106383  ,  0.02191864,  0.03953272,  0.1282396 ,  0.09649935,\n",
       "       -0.07495572, -0.08190611, -0.00550319, -0.05088764, -0.02368456,\n",
       "       -0.03202795, -0.03246547, -0.09740015,  0.02705891, -0.04721256,\n",
       "       -0.10779036,  0.02889222, -0.04959387,  0.00438482,  0.1125828 ,\n",
       "        0.02967408, -0.03953763, -0.03824307, -0.02350415,  0.08929399,\n",
       "       -0.05833072,  0.11438753,  0.04715329, -0.00628094,  0.01926469,\n",
       "        0.08733738,  0.03996496, -0.01428705,  0.0273339 ,  0.06207437,\n",
       "       -0.02028371,  0.03845913,  0.11357221,  0.01934522,  0.03912058,\n",
       "       -0.01071374,  0.08371281, -0.01819216, -0.07302573,  0.06922083,\n",
       "        0.08789821, -0.06484031,  0.04392163,  0.09539251, -0.00485883,\n",
       "        0.01967665, -0.02455812, -0.00202661,  0.00090681, -0.10674209,\n",
       "        0.03723292, -0.00221859,  0.09511156, -0.04620351,  0.02567847,\n",
       "       -0.06847313, -0.03509353,  0.0124781 , -0.03716535, -0.03656564,\n",
       "        0.07263417,  0.1378447 ,  0.0781123 , -0.04099664,  0.02829605,\n",
       "       -0.12339357, -0.07709657,  0.01032557,  0.16192447,  0.10008051,\n",
       "       -0.05151262, -0.11555171, -0.1219007 ,  0.00029775, -0.00224688,\n",
       "       -0.11685859, -0.0810156 , -0.01732548, -0.06646408,  0.05212889,\n",
       "       -0.01562795,  0.01351294,  0.05196213,  0.09754288, -0.00170025,\n",
       "        0.11304872, -0.01525896,  0.01645871, -0.02284635,  0.07878659],\n",
       "      dtype=float32)"
      ]
     },
     "execution_count": 15,
     "metadata": {},
     "output_type": "execute_result"
    }
   ],
   "source": [
    "dataaa['ارزان']"
   ]
  },
  {
   "cell_type": "markdown",
   "metadata": {},
   "source": [
    "#### Creating the embedding layer"
   ]
  },
  {
   "cell_type": "code",
   "execution_count": 12,
   "metadata": {},
   "outputs": [],
   "source": [
    "word_to_vec_map = w2v_dict\n",
    "\n",
    "maxLen = 15\n",
    "\n",
    "vocab_len = len(words_to_index)\n",
    "embed_vector_len = word_to_vec_map['سلام'].shape[0]\n",
    "\n",
    "emb_matrix = np.zeros((vocab_len, embed_vector_len))\n",
    "\n",
    "for word, index in words_to_index.items():\n",
    "  try:\n",
    "      embedding_vector = word_to_vec_map[word]\n",
    "  except:\n",
    "      embedding_vector = None\n",
    "  if embedding_vector is not None:\n",
    "    emb_matrix[index, :] = embedding_vector\n",
    "\n",
    "embedding_layer = Embedding(input_dim=vocab_len,\n",
    "                            output_dim=embed_vector_len,\n",
    "                            input_length=maxLen,\n",
    "                            weights = [emb_matrix],\n",
    "                            trainable=False)"
   ]
  },
  {
   "cell_type": "code",
   "execution_count": 13,
   "metadata": {},
   "outputs": [
    {
     "data": {
      "text/plain": [
       "<keras.layers.embeddings.Embedding at 0x7fc3d9eb44d0>"
      ]
     },
     "execution_count": 13,
     "metadata": {},
     "output_type": "execute_result"
    }
   ],
   "source": [
    "embedding_layer"
   ]
  },
  {
   "cell_type": "markdown",
   "metadata": {},
   "source": [
    "#### Model structure function"
   ]
  },
  {
   "cell_type": "code",
   "execution_count": 14,
   "metadata": {},
   "outputs": [],
   "source": [
    "def persian_tc(input_shape):\n",
    "\n",
    "  X_indices = Input(input_shape)\n",
    "\n",
    "  embeddings = embedding_layer(X_indices)\n",
    "\n",
    "  X = LSTM(128, return_sequences=True)(embeddings)\n",
    "\n",
    "  X = Dropout(0.5)(X)\n",
    "\n",
    "  X = LSTM(64)(X)\n",
    "  \n",
    "  X = Dense(3, activation='softmax')(X)\n",
    "\n",
    "  model = Model(inputs=X_indices, outputs=X)\n",
    "\n",
    "  return model"
   ]
  },
  {
   "cell_type": "code",
   "execution_count": 15,
   "metadata": {},
   "outputs": [],
   "source": [
    "model = persian_tc((maxLen,))"
   ]
  },
  {
   "cell_type": "markdown",
   "metadata": {},
   "source": [
    "#### Tokenizing and padding the training data"
   ]
  },
  {
   "cell_type": "code",
   "execution_count": 16,
   "metadata": {},
   "outputs": [
    {
     "data": {
      "text/plain": [
       "(9336, 15)"
      ]
     },
     "execution_count": 16,
     "metadata": {},
     "output_type": "execute_result"
    }
   ],
   "source": [
    "X_train_indices = tokenizer.texts_to_sequences(X_train)\n",
    "\n",
    "X_train_indices = pad_sequences(X_train_indices, maxlen=maxLen, padding='post')\n",
    "X_train_indices.shape"
   ]
  },
  {
   "cell_type": "code",
   "execution_count": 17,
   "metadata": {},
   "outputs": [],
   "source": [
    "adam = keras.optimizers.adam_v2.Adam(learning_rate = 0.001)\n",
    "model.compile(optimizer=adam, loss='categorical_crossentropy', metrics=['accuracy'])"
   ]
  },
  {
   "cell_type": "code",
   "execution_count": 18,
   "metadata": {},
   "outputs": [],
   "source": [
    "X_train_indices, Y_train = shuffle(X_train_indices, Y_train)"
   ]
  },
  {
   "cell_type": "code",
   "execution_count": 19,
   "metadata": {},
   "outputs": [],
   "source": [
    "checkpoint_filepath = 'W_w2v'\n",
    "model_checkpoint_callback = keras.callbacks.ModelCheckpoint(\n",
    "    filepath=checkpoint_filepath,\n",
    "    save_weights_only=True,\n",
    "    monitor='val_accuracy',\n",
    "    mode='max',\n",
    "    save_best_only=True)"
   ]
  },
  {
   "cell_type": "code",
   "execution_count": 20,
   "metadata": {},
   "outputs": [
    {
     "name": "stdout",
     "output_type": "stream",
     "text": [
      "Epoch 1/50\n",
      "234/234 [==============================] - 11s 28ms/step - loss: 0.9564 - accuracy: 0.5344 - val_loss: 0.9187 - val_accuracy: 0.5824\n",
      "Epoch 2/50\n",
      "234/234 [==============================] - 7s 30ms/step - loss: 0.9048 - accuracy: 0.5803 - val_loss: 0.9052 - val_accuracy: 0.5766\n",
      "Epoch 3/50\n",
      "234/234 [==============================] - 7s 30ms/step - loss: 0.8949 - accuracy: 0.5826 - val_loss: 0.9227 - val_accuracy: 0.5744\n",
      "Epoch 4/50\n",
      "234/234 [==============================] - 7s 30ms/step - loss: 0.8845 - accuracy: 0.5892 - val_loss: 0.8623 - val_accuracy: 0.5980\n",
      "Epoch 5/50\n",
      "234/234 [==============================] - 9s 37ms/step - loss: 0.8631 - accuracy: 0.6014 - val_loss: 0.8477 - val_accuracy: 0.5985\n",
      "Epoch 6/50\n",
      "234/234 [==============================] - 10s 42ms/step - loss: 0.8571 - accuracy: 0.6054 - val_loss: 0.8902 - val_accuracy: 0.5910\n",
      "Epoch 7/50\n",
      "234/234 [==============================] - 9s 38ms/step - loss: 0.8397 - accuracy: 0.6172 - val_loss: 0.8465 - val_accuracy: 0.6076\n",
      "Epoch 8/50\n",
      "234/234 [==============================] - 10s 42ms/step - loss: 0.8290 - accuracy: 0.6252 - val_loss: 0.8216 - val_accuracy: 0.6269\n",
      "Epoch 9/50\n",
      "234/234 [==============================] - 11s 47ms/step - loss: 0.8218 - accuracy: 0.6303 - val_loss: 0.8051 - val_accuracy: 0.6344\n",
      "Epoch 10/50\n",
      "234/234 [==============================] - 11s 48ms/step - loss: 0.8132 - accuracy: 0.6401 - val_loss: 0.8055 - val_accuracy: 0.6338\n",
      "Epoch 11/50\n",
      "234/234 [==============================] - 9s 40ms/step - loss: 0.8043 - accuracy: 0.6393 - val_loss: 0.8479 - val_accuracy: 0.6022\n",
      "Epoch 12/50\n",
      "234/234 [==============================] - 9s 40ms/step - loss: 0.7960 - accuracy: 0.6414 - val_loss: 0.8041 - val_accuracy: 0.6440\n",
      "Epoch 13/50\n",
      "234/234 [==============================] - 10s 42ms/step - loss: 0.7930 - accuracy: 0.6472 - val_loss: 0.7860 - val_accuracy: 0.6408\n",
      "Epoch 14/50\n",
      "234/234 [==============================] - 9s 39ms/step - loss: 0.7829 - accuracy: 0.6572 - val_loss: 0.7908 - val_accuracy: 0.6247\n",
      "Epoch 15/50\n",
      "234/234 [==============================] - 10s 42ms/step - loss: 0.7807 - accuracy: 0.6525 - val_loss: 0.8085 - val_accuracy: 0.6247\n",
      "Epoch 16/50\n",
      "234/234 [==============================] - 10s 41ms/step - loss: 0.7720 - accuracy: 0.6494 - val_loss: 0.7946 - val_accuracy: 0.6456\n",
      "Epoch 17/50\n",
      "234/234 [==============================] - 10s 43ms/step - loss: 0.7682 - accuracy: 0.6596 - val_loss: 0.7698 - val_accuracy: 0.6569\n",
      "Epoch 18/50\n",
      "234/234 [==============================] - 8s 36ms/step - loss: 0.7763 - accuracy: 0.6531 - val_loss: 0.7747 - val_accuracy: 0.6552\n",
      "Epoch 19/50\n",
      "234/234 [==============================] - 7s 29ms/step - loss: 0.7598 - accuracy: 0.6575 - val_loss: 0.7673 - val_accuracy: 0.6552\n",
      "Epoch 20/50\n",
      "234/234 [==============================] - 7s 29ms/step - loss: 0.7535 - accuracy: 0.6591 - val_loss: 0.8622 - val_accuracy: 0.5894\n",
      "Epoch 21/50\n",
      "234/234 [==============================] - 6s 26ms/step - loss: 0.7558 - accuracy: 0.6593 - val_loss: 0.7710 - val_accuracy: 0.6590\n",
      "Epoch 22/50\n",
      "234/234 [==============================] - 6s 26ms/step - loss: 0.7610 - accuracy: 0.6584 - val_loss: 0.7844 - val_accuracy: 0.6504\n",
      "Epoch 23/50\n",
      "234/234 [==============================] - 6s 27ms/step - loss: 0.7541 - accuracy: 0.6651 - val_loss: 0.7894 - val_accuracy: 0.6472\n",
      "Epoch 24/50\n",
      "234/234 [==============================] - 6s 25ms/step - loss: 0.7456 - accuracy: 0.6683 - val_loss: 0.8040 - val_accuracy: 0.6344\n",
      "Epoch 25/50\n",
      "234/234 [==============================] - 6s 25ms/step - loss: 0.7445 - accuracy: 0.6683 - val_loss: 0.7642 - val_accuracy: 0.6499\n",
      "Epoch 26/50\n",
      "234/234 [==============================] - 6s 25ms/step - loss: 0.7328 - accuracy: 0.6742 - val_loss: 0.7651 - val_accuracy: 0.6617\n",
      "Epoch 27/50\n",
      "234/234 [==============================] - 6s 27ms/step - loss: 0.7377 - accuracy: 0.6737 - val_loss: 0.7548 - val_accuracy: 0.6585\n",
      "Epoch 28/50\n",
      "234/234 [==============================] - 6s 25ms/step - loss: 0.7371 - accuracy: 0.6717 - val_loss: 0.7753 - val_accuracy: 0.6590\n",
      "Epoch 29/50\n",
      "234/234 [==============================] - 6s 25ms/step - loss: 0.7301 - accuracy: 0.6765 - val_loss: 0.7744 - val_accuracy: 0.6461\n",
      "Epoch 30/50\n",
      "234/234 [==============================] - 6s 26ms/step - loss: 0.7253 - accuracy: 0.6777 - val_loss: 0.7654 - val_accuracy: 0.6504\n",
      "Epoch 31/50\n",
      "234/234 [==============================] - 6s 26ms/step - loss: 0.7216 - accuracy: 0.6867 - val_loss: 0.7827 - val_accuracy: 0.6542\n",
      "Epoch 32/50\n",
      "234/234 [==============================] - 6s 26ms/step - loss: 0.7214 - accuracy: 0.6747 - val_loss: 0.7696 - val_accuracy: 0.6563\n",
      "Epoch 33/50\n",
      "234/234 [==============================] - 7s 29ms/step - loss: 0.7163 - accuracy: 0.6828 - val_loss: 0.7739 - val_accuracy: 0.6579\n",
      "Epoch 34/50\n",
      "234/234 [==============================] - 6s 27ms/step - loss: 0.7151 - accuracy: 0.6836 - val_loss: 0.7748 - val_accuracy: 0.6590\n",
      "Epoch 35/50\n",
      "234/234 [==============================] - 6s 26ms/step - loss: 0.7134 - accuracy: 0.6926 - val_loss: 0.7754 - val_accuracy: 0.6569\n",
      "Epoch 36/50\n",
      "234/234 [==============================] - 6s 27ms/step - loss: 0.7086 - accuracy: 0.6893 - val_loss: 0.7572 - val_accuracy: 0.6633\n",
      "Epoch 37/50\n",
      "234/234 [==============================] - 7s 29ms/step - loss: 0.7021 - accuracy: 0.6918 - val_loss: 0.7850 - val_accuracy: 0.6617\n",
      "Epoch 38/50\n",
      "234/234 [==============================] - 6s 26ms/step - loss: 0.6991 - accuracy: 0.6956 - val_loss: 0.7971 - val_accuracy: 0.6478\n",
      "Epoch 39/50\n",
      "234/234 [==============================] - 6s 26ms/step - loss: 0.6918 - accuracy: 0.6980 - val_loss: 0.7903 - val_accuracy: 0.6585\n",
      "Epoch 40/50\n",
      "234/234 [==============================] - 6s 27ms/step - loss: 0.7048 - accuracy: 0.6938 - val_loss: 0.7995 - val_accuracy: 0.6601\n",
      "Epoch 41/50\n",
      "234/234 [==============================] - 6s 26ms/step - loss: 0.6874 - accuracy: 0.6988 - val_loss: 0.8180 - val_accuracy: 0.6435\n",
      "Epoch 42/50\n",
      "234/234 [==============================] - 6s 25ms/step - loss: 0.6844 - accuracy: 0.7025 - val_loss: 0.7716 - val_accuracy: 0.6627\n",
      "Epoch 43/50\n",
      "234/234 [==============================] - 6s 25ms/step - loss: 0.6859 - accuracy: 0.6990 - val_loss: 0.8026 - val_accuracy: 0.6440\n",
      "Epoch 44/50\n",
      "234/234 [==============================] - 6s 25ms/step - loss: 0.6773 - accuracy: 0.7015 - val_loss: 0.7733 - val_accuracy: 0.6520\n",
      "Epoch 45/50\n",
      "234/234 [==============================] - 6s 24ms/step - loss: 0.6716 - accuracy: 0.7073 - val_loss: 0.7910 - val_accuracy: 0.6611\n",
      "Epoch 46/50\n",
      "234/234 [==============================] - 5s 23ms/step - loss: 0.6683 - accuracy: 0.7101 - val_loss: 0.7997 - val_accuracy: 0.6510\n",
      "Epoch 47/50\n",
      "234/234 [==============================] - 5s 23ms/step - loss: 0.6589 - accuracy: 0.7089 - val_loss: 0.7960 - val_accuracy: 0.6456\n",
      "Epoch 48/50\n",
      "234/234 [==============================] - 5s 23ms/step - loss: 0.6586 - accuracy: 0.7101 - val_loss: 0.8165 - val_accuracy: 0.6520\n",
      "Epoch 49/50\n",
      "234/234 [==============================] - 5s 23ms/step - loss: 0.6568 - accuracy: 0.7137 - val_loss: 0.7885 - val_accuracy: 0.6558\n",
      "Epoch 50/50\n",
      "234/234 [==============================] - 5s 23ms/step - loss: 0.6506 - accuracy: 0.7122 - val_loss: 0.8012 - val_accuracy: 0.6499\n"
     ]
    }
   ],
   "source": [
    "history = model.fit(X_train_indices,\n",
    "                    Y_train,\n",
    "                    validation_split=0.2,\n",
    "                    callbacks=[model_checkpoint_callback],\n",
    "                    batch_size=32,\n",
    "                    epochs=50)"
   ]
  },
  {
   "cell_type": "code",
   "execution_count": 24,
   "metadata": {},
   "outputs": [
    {
     "data": {
      "image/png": "[encoded data removed]",
      "text/plain": [
       "<Figure size 432x288 with 1 Axes>"
      ]
     },
     "metadata": {
      "needs_background": "light"
     },
     "output_type": "display_data"
    }
   ],
   "source": [
    "plt.plot(history.history['accuracy'])\n",
    "plt.plot(history.history['val_accuracy'])\n",
    "plt.title('model accuracy')\n",
    "plt.ylabel('accuracy')\n",
    "plt.xlabel('epoch')\n",
    "plt.legend(['train', 'val'], loc='upper left')\n",
    "plt.show()"
   ]
  },
  {
   "cell_type": "code",
   "execution_count": 25,
   "metadata": {},
   "outputs": [
    {
     "data": {
      "image/png": "[encoded data removed]",
      "text/plain": [
       "<Figure size 432x288 with 1 Axes>"
      ]
     },
     "metadata": {
      "needs_background": "light"
     },
     "output_type": "display_data"
    }
   ],
   "source": [
    "plt.plot(history.history['loss'])\n",
    "plt.plot(history.history['val_loss'])\n",
    "plt.title('model loss')\n",
    "plt.ylabel('loss')\n",
    "plt.xlabel('epoch')\n",
    "plt.legend(['train', 'val'], loc='upper left')\n",
    "plt.show()"
   ]
  },
  {
   "cell_type": "code",
   "execution_count": 27,
   "metadata": {},
   "outputs": [
    {
     "data": {
      "text/plain": [
       "<tensorflow.python.training.tracking.util.CheckpointLoadStatus at 0x7fc3e04a0910>"
      ]
     },
     "execution_count": 27,
     "metadata": {},
     "output_type": "execute_result"
    }
   ],
   "source": [
    "checkpoint_filepath = \"W_w2v/W_w2v\"\n",
    "model.load_weights(checkpoint_filepath)"
   ]
  },
  {
   "cell_type": "code",
   "execution_count": 28,
   "metadata": {},
   "outputs": [],
   "source": [
    "with open('validation_final', encoding='utf-8') as json_file:\n",
    "    df_data = []\n",
    "    df_labels = []\n",
    "    data = json.load(json_file)\n",
    "    for i in range(len(data)):\n",
    "        category_data = data[i]['input_list'][0]['post_list']\n",
    "        category_labels = [data[i]['category']] * len(category_data)\n",
    "        df_data += category_data\n",
    "        df_labels += category_labels\n",
    "\n",
    "    df_val = pd.DataFrame(\n",
    "    {'Sentence': df_data,\n",
    "     'Label': df_labels\n",
    "    })"
   ]
  },
  {
   "cell_type": "code",
   "execution_count": 29,
   "metadata": {},
   "outputs": [
    {
     "name": "stdout",
     "output_type": "stream",
     "text": [
      "['دیگران', 'همچنان', 'مدت', 'چیز', 'سایر', 'جا', 'طی', 'کل', 'کنونی', 'بیرون', 'مثلا', 'کامل', 'کاملا', 'آنکه', 'موارد', 'واقعی', 'امور', 'امورات', 'اکنون', 'بطور', 'به', 'بخشی', 'تحت', 'چگونه', 'عدم', 'نوعی', 'حاضر', 'وضع', 'مقابل', 'کنار', 'خویش', 'نگاه', 'درون', 'زمانی', 'بنابراین', 'بنابرین', 'تو', 'خیلی', 'بزرگ', 'خودش', 'جز', 'اینجا', 'مختلف', 'توسط', 'نوع', 'همچنین', 'آنجا', 'قبل', 'جناح', 'اینها', 'طور', 'شاید', 'ایشان', 'جهت', 'طریق', 'مانند', 'پیدا', 'ممکن', 'کسانی', 'جای', 'کسی', 'غیر', 'بی', 'قابل', 'درباره', 'جدید', 'وقتی', 'اخیر', 'چرا', 'بیش', 'روی', 'طرف', 'جریان', 'زیر', 'آنچه', 'البته', 'فقط', 'چیزی', 'چون', 'برابر', 'هنوز', 'بخش', 'زمینه', 'بین', 'بدون', 'استفاد', 'همان', 'نشان', 'بسیاری', 'بعد', 'عمل', 'روز', 'اعلام', 'چند', 'آنان', 'بلکه', 'امروز', 'تمام', 'بیشتر', 'آیا', 'برخی', 'علیه', 'دیگری', 'ویژه', 'گذشته', 'انجام', 'حتی', 'داده', 'راه', 'سوی', 'ولی', 'زمان', 'حال', 'تنها', 'بسیار', 'یعنی', 'عنوان', 'همین', 'هبچ', 'پیش', 'وی', 'یکی', 'اینکه', 'وجود', 'شما', 'پس', 'چنین', 'میان', 'مورد', 'چه', 'اگر', 'همه', 'نه', 'دیگر', 'آنها', 'باید', 'هر', 'او', 'ما', 'من', 'تا', 'نیز', 'اما', 'یک', 'خود', 'بر', 'یا', 'هم', 'را', 'این', 'با', 'آن', 'برای', 'و', 'در', 'به', 'که', 'از']\n"
     ]
    },
    {
     "name": "stderr",
     "output_type": "stream",
     "text": [
      "/Library/Frameworks/Python.framework/Versions/3.7/lib/python3.7/site-packages/ipykernel_launcher.py:4: FutureWarning: The default value of regex will change from True to False in a future version.\n",
      "  after removing the cwd from sys.path.\n"
     ]
    },
    {
     "data": {
      "text/plain": [
       "(450, 15)"
      ]
     },
     "execution_count": 29,
     "metadata": {},
     "output_type": "execute_result"
    }
   ],
   "source": [
    "df_val = df_val.replace(to_replace ='(@[A-Za-z0-9]+)', value = '', regex = True)\n",
    "\n",
    "df_val = remove_stopwords(df_val, 'nonverbal')\n",
    "df_val['clean_review'] = df_val['review without stopwords'].str.replace('[{}]'.format(string.punctuation), ' ')\n",
    "\n",
    "y_val = pd.get_dummies(df_val['Label']).values\n",
    "sentences = df_val['clean_review']\n",
    "\n",
    "X_val = sentences\n",
    "Y_val = y_val\n",
    "\n",
    "X_val_indices = tokenizer.texts_to_sequences(X_val)\n",
    "\n",
    "X_val_indices = pad_sequences(X_val_indices, maxlen=maxLen, padding='post')\n",
    "X_val_indices.shape"
   ]
  },
  {
   "cell_type": "code",
   "execution_count": 30,
   "metadata": {},
   "outputs": [
    {
     "name": "stdout",
     "output_type": "stream",
     "text": [
      "15/15 [==============================] - 0s 6ms/step - loss: 0.8500 - accuracy: 0.5867\n"
     ]
    },
    {
     "data": {
      "text/plain": [
       "[0.8499943614006042, 0.5866666436195374]"
      ]
     },
     "execution_count": 30,
     "metadata": {},
     "output_type": "execute_result"
    }
   ],
   "source": [
    "model.evaluate(X_val_indices, Y_val)"
   ]
  },
  {
   "cell_type": "code",
   "execution_count": null,
   "metadata": {},
   "outputs": [],
   "source": []
  }
 ],
 "metadata": {
  "kernelspec": {
   "display_name": "Python 3",
   "language": "python",
   "name": "python3"
  },
  "language_info": {
   "codemirror_mode": {
    "name": "ipython",
    "version": 3
   },
   "file_extension": ".py",
   "mimetype": "text/x-python",
   "name": "python",
   "nbconvert_exporter": "python",
   "pygments_lexer": "ipython3",
   "version": "3.7.8"
  }
 },
 "nbformat": 4,
 "nbformat_minor": 5
}
